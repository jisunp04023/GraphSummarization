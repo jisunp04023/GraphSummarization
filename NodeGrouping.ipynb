{
 "cells": [
  {
   "cell_type": "code",
   "execution_count": 1,
   "id": "dcdaef2c",
   "metadata": {},
   "outputs": [],
   "source": [
    "import numpy as np\n",
    "import pandas as pd\n",
    "import json\n",
    "import matplotlib.pyplot as plt\n",
    "import math\n",
    "import csv"
   ]
  },
  {
   "cell_type": "code",
   "execution_count": 2,
   "id": "ea0bb1d6",
   "metadata": {},
   "outputs": [
    {
     "data": {
      "text/plain": [
       "[['1', '2', '5'],\n",
       " ['2', '3', '4'],\n",
       " ['2', '4', '1'],\n",
       " ['3', '4', '5'],\n",
       " ['3', '5', '5'],\n",
       " ['4', '7', '3'],\n",
       " ['4', '8', '5'],\n",
       " ['5', '6', '1'],\n",
       " ['7', '9', '5']]"
      ]
     },
     "execution_count": 2,
     "metadata": {},
     "output_type": "execute_result"
    }
   ],
   "source": [
    "with open('WeightedGraph.txt', newline = '') as f:\n",
    "    reader = csv.reader(f)\n",
    "    wg = list(reader)\n",
    "wg"
   ]
  },
  {
   "cell_type": "code",
   "execution_count": 3,
   "id": "7dd9fad0",
   "metadata": {},
   "outputs": [
    {
     "name": "stdout",
     "output_type": "stream",
     "text": [
      "5\n"
     ]
    }
   ],
   "source": [
    "f = open('input.txt', 'r')\n",
    "weight = f.readline()\n",
    "f.close()\n",
    "print(weight)"
   ]
  },
  {
   "cell_type": "code",
   "execution_count": 4,
   "id": "53384d36",
   "metadata": {},
   "outputs": [],
   "source": [
    "supernode = []\n",
    "def IsSupernode(n):\n",
    "    for i in range(0, len(supernode)):\n",
    "        for j in range(0, len(supernode[i])):\n",
    "            if n == supernode[i][j]:\n",
    "                return i\n",
    "    return -1"
   ]
  },
  {
   "cell_type": "code",
   "execution_count": 5,
   "id": "be4866dd",
   "metadata": {},
   "outputs": [
    {
     "name": "stdout",
     "output_type": "stream",
     "text": [
      "[['1', '2'], ['3', '4', '5', '8'], ['7', '9']]\n",
      "[['2', '3', '4'], ['2', '4', '1'], ['4', '7', '3'], ['5', '6', '1']]\n"
     ]
    }
   ],
   "source": [
    "superedge = []\n",
    "idx = 0\n",
    "\n",
    "for i in range(0, len(wg)):\n",
    "    if wg[i][2] == weight:\n",
    "        if IsSupernode(wg[i][0]) >= 0: # source node가 supernode에 존재한다면\n",
    "            t = IsSupernode(wg[i][0])\n",
    "            supernode[t].append(wg[i][1])\n",
    "        else:\n",
    "            supernode.append([])\n",
    "            supernode[len(supernode)-1].append(wg[i][0])\n",
    "            supernode[len(supernode)-1].append(wg[i][1])\n",
    "    else:\n",
    "        superedge.append([])\n",
    "        superedge[idx].append(wg[i][0])\n",
    "        superedge[idx].append(wg[i][1])\n",
    "        superedge[idx].append(wg[i][2])\n",
    "        idx += 1\n",
    "            \n",
    "print(supernode)\n",
    "print(superedge)"
   ]
  },
  {
   "cell_type": "code",
   "execution_count": 7,
   "id": "888103b0",
   "metadata": {},
   "outputs": [
    {
     "data": {
      "text/plain": [
       "[['1', '3', '4'], ['1', '3', '1'], ['3', '7', '3'], ['3', '6', '1']]"
      ]
     },
     "execution_count": 7,
     "metadata": {},
     "output_type": "execute_result"
    }
   ],
   "source": [
    "for i in range(0, len(superedge)):\n",
    "    for j in range(0, 2):\n",
    "        if IsSupernode(superedge[i][j]) >= 0:\n",
    "            t = IsSupernode(superedge[i][j])\n",
    "            superedge[i][j] = supernode[t][0]\n",
    "\n",
    "superedge"
   ]
  },
  {
   "cell_type": "code",
   "execution_count": 8,
   "id": "4e1ec491",
   "metadata": {},
   "outputs": [
    {
     "data": {
      "text/html": [
       "<div>\n",
       "<style scoped>\n",
       "    .dataframe tbody tr th:only-of-type {\n",
       "        vertical-align: middle;\n",
       "    }\n",
       "\n",
       "    .dataframe tbody tr th {\n",
       "        vertical-align: top;\n",
       "    }\n",
       "\n",
       "    .dataframe thead th {\n",
       "        text-align: right;\n",
       "    }\n",
       "</style>\n",
       "<table border=\"1\" class=\"dataframe\">\n",
       "  <thead>\n",
       "    <tr style=\"text-align: right;\">\n",
       "      <th></th>\n",
       "      <th>0</th>\n",
       "      <th>1</th>\n",
       "      <th>2</th>\n",
       "    </tr>\n",
       "  </thead>\n",
       "  <tbody>\n",
       "    <tr>\n",
       "      <th>0</th>\n",
       "      <td>1</td>\n",
       "      <td>3</td>\n",
       "      <td>4</td>\n",
       "    </tr>\n",
       "    <tr>\n",
       "      <th>1</th>\n",
       "      <td>1</td>\n",
       "      <td>3</td>\n",
       "      <td>1</td>\n",
       "    </tr>\n",
       "    <tr>\n",
       "      <th>2</th>\n",
       "      <td>3</td>\n",
       "      <td>7</td>\n",
       "      <td>3</td>\n",
       "    </tr>\n",
       "    <tr>\n",
       "      <th>3</th>\n",
       "      <td>3</td>\n",
       "      <td>6</td>\n",
       "      <td>1</td>\n",
       "    </tr>\n",
       "  </tbody>\n",
       "</table>\n",
       "</div>"
      ],
      "text/plain": [
       "   0  1  2\n",
       "0  1  3  4\n",
       "1  1  3  1\n",
       "2  3  7  3\n",
       "3  3  6  1"
      ]
     },
     "execution_count": 8,
     "metadata": {},
     "output_type": "execute_result"
    }
   ],
   "source": [
    "superedge = pd.DataFrame(superedge)\n",
    "superedge"
   ]
  },
  {
   "cell_type": "code",
   "execution_count": 9,
   "id": "00be41e5",
   "metadata": {},
   "outputs": [
    {
     "data": {
      "text/html": [
       "<div>\n",
       "<style scoped>\n",
       "    .dataframe tbody tr th:only-of-type {\n",
       "        vertical-align: middle;\n",
       "    }\n",
       "\n",
       "    .dataframe tbody tr th {\n",
       "        vertical-align: top;\n",
       "    }\n",
       "\n",
       "    .dataframe thead th {\n",
       "        text-align: right;\n",
       "    }\n",
       "</style>\n",
       "<table border=\"1\" class=\"dataframe\">\n",
       "  <thead>\n",
       "    <tr style=\"text-align: right;\">\n",
       "      <th></th>\n",
       "      <th>Source</th>\n",
       "      <th>Target</th>\n",
       "      <th>Weight</th>\n",
       "    </tr>\n",
       "  </thead>\n",
       "  <tbody>\n",
       "    <tr>\n",
       "      <th>0</th>\n",
       "      <td>1</td>\n",
       "      <td>3</td>\n",
       "      <td>4</td>\n",
       "    </tr>\n",
       "    <tr>\n",
       "      <th>1</th>\n",
       "      <td>1</td>\n",
       "      <td>3</td>\n",
       "      <td>1</td>\n",
       "    </tr>\n",
       "    <tr>\n",
       "      <th>2</th>\n",
       "      <td>3</td>\n",
       "      <td>7</td>\n",
       "      <td>3</td>\n",
       "    </tr>\n",
       "    <tr>\n",
       "      <th>3</th>\n",
       "      <td>3</td>\n",
       "      <td>6</td>\n",
       "      <td>1</td>\n",
       "    </tr>\n",
       "  </tbody>\n",
       "</table>\n",
       "</div>"
      ],
      "text/plain": [
       "  Source Target Weight\n",
       "0      1      3      4\n",
       "1      1      3      1\n",
       "2      3      7      3\n",
       "3      3      6      1"
      ]
     },
     "execution_count": 9,
     "metadata": {},
     "output_type": "execute_result"
    }
   ],
   "source": [
    "superedge.columns = ['Source', 'Target', 'Weight']\n",
    "superedge"
   ]
  },
  {
   "cell_type": "code",
   "execution_count": null,
   "id": "6059a23f",
   "metadata": {},
   "outputs": [],
   "source": []
  }
 ],
 "metadata": {
  "kernelspec": {
   "display_name": "Python 3",
   "language": "python",
   "name": "python3"
  },
  "language_info": {
   "codemirror_mode": {
    "name": "ipython",
    "version": 3
   },
   "file_extension": ".py",
   "mimetype": "text/x-python",
   "name": "python",
   "nbconvert_exporter": "python",
   "pygments_lexer": "ipython3",
   "version": "3.8.8"
  }
 },
 "nbformat": 4,
 "nbformat_minor": 5
}
