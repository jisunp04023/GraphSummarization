{
 "cells": [
  {
   "cell_type": "code",
   "execution_count": 1,
   "id": "f0b49299",
   "metadata": {},
   "outputs": [],
   "source": [
    "import numpy as np\n",
    "import pandas as pd\n",
    "import json\n",
    "import matplotlib.pyplot as plt\n",
    "import math\n",
    "import csv"
   ]
  },
  {
   "cell_type": "code",
   "execution_count": 2,
   "id": "c191f9d3",
   "metadata": {},
   "outputs": [
    {
     "data": {
      "text/plain": [
       "[['1', '2', '5'],\n",
       " ['2', '3', '4'],\n",
       " ['2', '4', '1'],\n",
       " ['3', '4', '5'],\n",
       " ['3', '5', '5'],\n",
       " ['4', '7', '3'],\n",
       " ['4', '8', '5'],\n",
       " ['5', '6', '1'],\n",
       " ['7', '9', '5']]"
      ]
     },
     "execution_count": 2,
     "metadata": {},
     "output_type": "execute_result"
    }
   ],
   "source": [
    "with open('edge.csv', newline = '') as f:\n",
    "    reader = csv.reader(f)\n",
    "    wg = list(reader)\n",
    "wg = wg[1:]\n",
    "wg"
   ]
  },
  {
   "cell_type": "code",
   "execution_count": 26,
   "id": "9db62ba5",
   "metadata": {},
   "outputs": [
    {
     "data": {
      "text/plain": [
       "'5'"
      ]
     },
     "execution_count": 26,
     "metadata": {},
     "output_type": "execute_result"
    }
   ],
   "source": [
    "df = pd.DataFrame(wg)\n",
    "df = df.astype({2: 'int'})\n",
    "\n",
    "weight = df[2].max()\n",
    "weight = str(weight)\n",
    "weight"
   ]
  },
  {
   "cell_type": "code",
   "execution_count": 27,
   "id": "1dd4390c",
   "metadata": {},
   "outputs": [],
   "source": [
    "supernode = []\n",
    "def IsSupernode(n):\n",
    "    for i in range(0, len(supernode)):\n",
    "        for j in range(0, len(supernode[i])):\n",
    "            if n == supernode[i][j]:\n",
    "                return i\n",
    "    return -1"
   ]
  },
  {
   "cell_type": "code",
   "execution_count": 28,
   "id": "d72e8337",
   "metadata": {},
   "outputs": [
    {
     "name": "stdout",
     "output_type": "stream",
     "text": [
      "[['1', '2'], ['3', '4', '5', '8'], ['7', '9']]\n",
      "[['2', '3', '4'], ['2', '4', '1'], ['4', '7', '3'], ['5', '6', '1']]\n"
     ]
    }
   ],
   "source": [
    "superedge = []\n",
    "idx = 0\n",
    "\n",
    "for i in range(0, len(wg)):\n",
    "    if wg[i][2] == weight:\n",
    "        if IsSupernode(wg[i][0]) >= 0: # source node가 supernode에 존재한다면\n",
    "            row = IsSupernode(wg[i][0])\n",
    "            supernode[row].append(wg[i][1])\n",
    "        else:\n",
    "            supernode.append([])\n",
    "            supernode[len(supernode)-1].append(wg[i][0])\n",
    "            supernode[len(supernode)-1].append(wg[i][1])\n",
    "    else:\n",
    "        superedge.append([])\n",
    "        superedge[idx].append(wg[i][0])\n",
    "        superedge[idx].append(wg[i][1])\n",
    "        superedge[idx].append(wg[i][2])\n",
    "        idx += 1\n",
    "            \n",
    "print(supernode)\n",
    "print(superedge)"
   ]
  },
  {
   "cell_type": "code",
   "execution_count": 29,
   "id": "eb4fd7af",
   "metadata": {},
   "outputs": [
    {
     "data": {
      "text/plain": [
       "[['1', '3', '4'], ['1', '3', '1'], ['3', '7', '3'], ['3', '6', '1']]"
      ]
     },
     "execution_count": 29,
     "metadata": {},
     "output_type": "execute_result"
    }
   ],
   "source": [
    "for i in range(0, len(superedge)):\n",
    "    for j in range(0, 2):\n",
    "        if IsSupernode(superedge[i][j]) >= 0:\n",
    "            row = IsSupernode(superedge[i][j])\n",
    "            superedge[i][j] = supernode[row][0]\n",
    "\n",
    "superedge"
   ]
  },
  {
   "cell_type": "code",
   "execution_count": 30,
   "id": "ace5f9b7",
   "metadata": {},
   "outputs": [],
   "source": [
    "output = []\n",
    "\n",
    "def IsSuperedge(s, t):\n",
    "    for i in range(0, len(output)):\n",
    "        if (s == output[i][0]) and (t == output[i][1]):\n",
    "            return i\n",
    "    return -1"
   ]
  },
  {
   "cell_type": "code",
   "execution_count": 31,
   "id": "773dd5ce",
   "metadata": {},
   "outputs": [
    {
     "data": {
      "text/plain": [
       "[['1', '3', 5.0, 2], ['3', '7', '3', 1], ['3', '6', '1', 1]]"
      ]
     },
     "execution_count": 31,
     "metadata": {},
     "output_type": "execute_result"
    }
   ],
   "source": [
    "idx2 = 0\n",
    "\n",
    "for i in range(0, len(superedge)):\n",
    "    s = superedge[i][0]\n",
    "    t = superedge[i][1]\n",
    "    w = superedge[i][2]\n",
    "    if IsSuperedge(s, t) >= 0:\n",
    "        # 있을 경우\n",
    "        row = IsSuperedge(s, t)\n",
    "        output[row][2] = float(output[row][2]) + float(w)\n",
    "        output[row][3] += 1\n",
    "    else:\n",
    "        output.append([])\n",
    "        output[idx2].append(s)\n",
    "        output[idx2].append(t)\n",
    "        output[idx2].append(w)\n",
    "        output[idx2].append(1)\n",
    "        idx2 += 1\n",
    "\n",
    "output"
   ]
  },
  {
   "cell_type": "code",
   "execution_count": 32,
   "id": "3c6ade63",
   "metadata": {},
   "outputs": [
    {
     "data": {
      "text/plain": [
       "[['1', '3', 2.5, 2], ['3', '7', '3', 1], ['3', '6', '1', 1]]"
      ]
     },
     "execution_count": 32,
     "metadata": {},
     "output_type": "execute_result"
    }
   ],
   "source": [
    "for i in range(0, len(output)):\n",
    "    if output[i][3] > 1:\n",
    "        output[i][2] /= output[i][3]\n",
    "\n",
    "output"
   ]
  },
  {
   "cell_type": "code",
   "execution_count": 33,
   "id": "c7d91841",
   "metadata": {},
   "outputs": [
    {
     "data": {
      "text/html": [
       "<div>\n",
       "<style scoped>\n",
       "    .dataframe tbody tr th:only-of-type {\n",
       "        vertical-align: middle;\n",
       "    }\n",
       "\n",
       "    .dataframe tbody tr th {\n",
       "        vertical-align: top;\n",
       "    }\n",
       "\n",
       "    .dataframe thead th {\n",
       "        text-align: right;\n",
       "    }\n",
       "</style>\n",
       "<table border=\"1\" class=\"dataframe\">\n",
       "  <thead>\n",
       "    <tr style=\"text-align: right;\">\n",
       "      <th></th>\n",
       "      <th>0</th>\n",
       "      <th>1</th>\n",
       "      <th>2</th>\n",
       "      <th>3</th>\n",
       "    </tr>\n",
       "  </thead>\n",
       "  <tbody>\n",
       "    <tr>\n",
       "      <th>0</th>\n",
       "      <td>1</td>\n",
       "      <td>3</td>\n",
       "      <td>2.5</td>\n",
       "      <td>2</td>\n",
       "    </tr>\n",
       "    <tr>\n",
       "      <th>1</th>\n",
       "      <td>3</td>\n",
       "      <td>7</td>\n",
       "      <td>3</td>\n",
       "      <td>1</td>\n",
       "    </tr>\n",
       "    <tr>\n",
       "      <th>2</th>\n",
       "      <td>3</td>\n",
       "      <td>6</td>\n",
       "      <td>1</td>\n",
       "      <td>1</td>\n",
       "    </tr>\n",
       "  </tbody>\n",
       "</table>\n",
       "</div>"
      ],
      "text/plain": [
       "   0  1    2  3\n",
       "0  1  3  2.5  2\n",
       "1  3  7    3  1\n",
       "2  3  6    1  1"
      ]
     },
     "execution_count": 33,
     "metadata": {},
     "output_type": "execute_result"
    }
   ],
   "source": [
    "output = pd.DataFrame(output)\n",
    "output"
   ]
  },
  {
   "cell_type": "code",
   "execution_count": 34,
   "id": "9e228676",
   "metadata": {},
   "outputs": [
    {
     "data": {
      "text/html": [
       "<div>\n",
       "<style scoped>\n",
       "    .dataframe tbody tr th:only-of-type {\n",
       "        vertical-align: middle;\n",
       "    }\n",
       "\n",
       "    .dataframe tbody tr th {\n",
       "        vertical-align: top;\n",
       "    }\n",
       "\n",
       "    .dataframe thead th {\n",
       "        text-align: right;\n",
       "    }\n",
       "</style>\n",
       "<table border=\"1\" class=\"dataframe\">\n",
       "  <thead>\n",
       "    <tr style=\"text-align: right;\">\n",
       "      <th></th>\n",
       "      <th>Source</th>\n",
       "      <th>Target</th>\n",
       "      <th>Weight</th>\n",
       "      <th>Count</th>\n",
       "    </tr>\n",
       "  </thead>\n",
       "  <tbody>\n",
       "    <tr>\n",
       "      <th>0</th>\n",
       "      <td>1</td>\n",
       "      <td>3</td>\n",
       "      <td>2.5</td>\n",
       "      <td>2</td>\n",
       "    </tr>\n",
       "    <tr>\n",
       "      <th>1</th>\n",
       "      <td>3</td>\n",
       "      <td>7</td>\n",
       "      <td>3</td>\n",
       "      <td>1</td>\n",
       "    </tr>\n",
       "    <tr>\n",
       "      <th>2</th>\n",
       "      <td>3</td>\n",
       "      <td>6</td>\n",
       "      <td>1</td>\n",
       "      <td>1</td>\n",
       "    </tr>\n",
       "  </tbody>\n",
       "</table>\n",
       "</div>"
      ],
      "text/plain": [
       "  Source Target Weight  Count\n",
       "0      1      3    2.5      2\n",
       "1      3      7      3      1\n",
       "2      3      6      1      1"
      ]
     },
     "execution_count": 34,
     "metadata": {},
     "output_type": "execute_result"
    }
   ],
   "source": [
    "output.columns = ['Source', 'Target', 'Weight', 'Count']\n",
    "output"
   ]
  },
  {
   "cell_type": "code",
   "execution_count": 35,
   "id": "d3e656f1",
   "metadata": {},
   "outputs": [
    {
     "data": {
      "text/html": [
       "<div>\n",
       "<style scoped>\n",
       "    .dataframe tbody tr th:only-of-type {\n",
       "        vertical-align: middle;\n",
       "    }\n",
       "\n",
       "    .dataframe tbody tr th {\n",
       "        vertical-align: top;\n",
       "    }\n",
       "\n",
       "    .dataframe thead th {\n",
       "        text-align: right;\n",
       "    }\n",
       "</style>\n",
       "<table border=\"1\" class=\"dataframe\">\n",
       "  <thead>\n",
       "    <tr style=\"text-align: right;\">\n",
       "      <th></th>\n",
       "      <th>Source</th>\n",
       "      <th>Target</th>\n",
       "      <th>Weight</th>\n",
       "    </tr>\n",
       "  </thead>\n",
       "  <tbody>\n",
       "    <tr>\n",
       "      <th>0</th>\n",
       "      <td>1</td>\n",
       "      <td>3</td>\n",
       "      <td>2.5</td>\n",
       "    </tr>\n",
       "    <tr>\n",
       "      <th>1</th>\n",
       "      <td>3</td>\n",
       "      <td>7</td>\n",
       "      <td>3</td>\n",
       "    </tr>\n",
       "    <tr>\n",
       "      <th>2</th>\n",
       "      <td>3</td>\n",
       "      <td>6</td>\n",
       "      <td>1</td>\n",
       "    </tr>\n",
       "  </tbody>\n",
       "</table>\n",
       "</div>"
      ],
      "text/plain": [
       "  Source Target Weight\n",
       "0      1      3    2.5\n",
       "1      3      7      3\n",
       "2      3      6      1"
      ]
     },
     "execution_count": 35,
     "metadata": {},
     "output_type": "execute_result"
    }
   ],
   "source": [
    "output = output.drop(['Count'], axis = 1)\n",
    "output"
   ]
  },
  {
   "cell_type": "code",
   "execution_count": 36,
   "id": "20ce8ff1",
   "metadata": {},
   "outputs": [],
   "source": [
    "output.to_csv(\"edge.csv\", index = False)"
   ]
  },
  {
   "cell_type": "code",
   "execution_count": null,
   "id": "3259dd71",
   "metadata": {},
   "outputs": [],
   "source": []
  }
 ],
 "metadata": {
  "kernelspec": {
   "display_name": "Python 3",
   "language": "python",
   "name": "python3"
  },
  "language_info": {
   "codemirror_mode": {
    "name": "ipython",
    "version": 3
   },
   "file_extension": ".py",
   "mimetype": "text/x-python",
   "name": "python",
   "nbconvert_exporter": "python",
   "pygments_lexer": "ipython3",
   "version": "3.8.8"
  }
 },
 "nbformat": 4,
 "nbformat_minor": 5
}
